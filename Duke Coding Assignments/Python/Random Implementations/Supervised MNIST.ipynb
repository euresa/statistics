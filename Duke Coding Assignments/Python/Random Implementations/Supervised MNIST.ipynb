{
 "cells": [
  {
   "cell_type": "code",
   "execution_count": 1,
   "metadata": {},
   "outputs": [],
   "source": [
    "import tensorflow as tf"
   ]
  },
  {
   "cell_type": "code",
   "execution_count": 3,
   "metadata": {},
   "outputs": [
    {
     "name": "stdout",
     "output_type": "stream",
     "text": [
      "2.4.1\n"
     ]
    }
   ],
   "source": [
    "print(tf.__version__)"
   ]
  },
  {
   "cell_type": "code",
   "execution_count": 19,
   "metadata": {},
   "outputs": [],
   "source": [
    "import matplotlib.pyplot as plt \n",
    "import numpy as np  "
   ]
  },
  {
   "cell_type": "markdown",
   "metadata": {},
   "source": [
    "### Loading MNIST Data"
   ]
  },
  {
   "cell_type": "code",
   "execution_count": 8,
   "metadata": {
    "scrolled": true
   },
   "outputs": [],
   "source": [
    "mnist = tf.keras.datasets.mnist\n",
    "(x_train, y_train), (x_test, y_test) =  mnist.load_data()"
   ]
  },
  {
   "cell_type": "code",
   "execution_count": 13,
   "metadata": {},
   "outputs": [
    {
     "name": "stdout",
     "output_type": "stream",
     "text": [
      "(60000, 28, 28) (60000,)\n"
     ]
    }
   ],
   "source": [
    "print(x_train.shape, y_train.shape)"
   ]
  },
  {
   "cell_type": "code",
   "execution_count": 14,
   "metadata": {},
   "outputs": [
    {
     "name": "stdout",
     "output_type": "stream",
     "text": [
      "(10000, 28, 28) (10000,)\n"
     ]
    }
   ],
   "source": [
    "print(x_test.shape, y_test.shape)"
   ]
  },
  {
   "cell_type": "code",
   "execution_count": 16,
   "metadata": {},
   "outputs": [
    {
     "name": "stdout",
     "output_type": "stream",
     "text": [
      "[5 0 4 1 9 2 1 3 1 4 3 5 3 6 1 7 2 8 6 9]\n"
     ]
    }
   ],
   "source": [
    "print(y_train[:20])"
   ]
  },
  {
   "cell_type": "markdown",
   "metadata": {},
   "source": [
    "### Plotting some data to see what it looks like"
   ]
  },
  {
   "cell_type": "code",
   "execution_count": 29,
   "metadata": {},
   "outputs": [
    {
     "data": {
      "image/png": "[encoded data removed]",
      "text/plain": [
       "<Figure size 432x288 with 1 Axes>"
      ]
     },
     "metadata": {
      "needs_background": "light"
     },
     "output_type": "display_data"
    }
   ],
   "source": [
    "i = 4\n",
    "plt.figure()\n",
    "plt.imshow(x_train[i])\n",
    "plt.grid(False)\n",
    "plt.title(str(y_train[i]), size = 16)\n",
    "plt.show()"
   ]
  },
  {
   "cell_type": "code",
   "execution_count": 31,
   "metadata": {},
   "outputs": [],
   "source": [
    "#Normalize the training data\n",
    "x_train = x_train / 255.0\n",
    "x_test = x_test / 255.0"
   ]
  },
  {
   "cell_type": "code",
   "execution_count": 33,
   "metadata": {},
   "outputs": [
    {
     "data": {
      "text/plain": [
       "(28, 28)"
      ]
     },
     "execution_count": 33,
     "metadata": {},
     "output_type": "execute_result"
    }
   ],
   "source": [
    "x_train[0].shape"
   ]
  },
  {
   "cell_type": "code",
   "execution_count": 32,
   "metadata": {
    "collapsed": true
   },
   "outputs": [
    {
     "data": {
      "text/plain": [
       "array([[0.        , 0.        , 0.        , 0.        , 0.        ,\n",
       "        0.        , 0.        , 0.        , 0.        , 0.        ,\n",
       "        0.        , 0.        , 0.        , 0.        , 0.        ,\n",
       "        0.        , 0.        , 0.        , 0.        , 0.        ,\n",
       "        0.        , 0.        , 0.        , 0.        , 0.        ,\n",
       "        0.        , 0.        , 0.        ],\n",
       "       [0.        , 0.        , 0.        , 0.        , 0.        ,\n",
       "        0.        , 0.        , 0.        , 0.        , 0.        ,\n",
       "        0.        , 0.        , 0.        , 0.        , 0.        ,\n",
       "        0.        , 0.        , 0.        , 0.        , 0.        ,\n",
       "        0.        , 0.        , 0.        , 0.        , 0.        ,\n",
       "        0.        , 0.        , 0.        ],\n",
       "       [0.        , 0.        , 0.        , 0.        , 0.        ,\n",
       "        0.        , 0.        , 0.        , 0.        , 0.        ,\n",
       "        0.        , 0.        , 0.        , 0.        , 0.        ,\n",
       "        0.        , 0.        , 0.        , 0.        , 0.        ,\n",
       "        0.        , 0.        , 0.        , 0.        , 0.        ,\n",
       "        0.        , 0.        , 0.        ],\n",
       "       [0.        , 0.        , 0.        , 0.        , 0.        ,\n",
       "        0.        , 0.        , 0.        , 0.        , 0.        ,\n",
       "        0.        , 0.        , 0.        , 0.        , 0.        ,\n",
       "        0.        , 0.        , 0.        , 0.        , 0.        ,\n",
       "        0.        , 0.        , 0.        , 0.        , 0.        ,\n",
       "        0.        , 0.        , 0.        ],\n",
       "       [0.        , 0.        , 0.        , 0.        , 0.        ,\n",
       "        0.        , 0.        , 0.        , 0.        , 0.        ,\n",
       "        0.        , 0.        , 0.        , 0.        , 0.        ,\n",
       "        0.        , 0.        , 0.        , 0.        , 0.        ,\n",
       "        0.        , 0.        , 0.        , 0.        , 0.        ,\n",
       "        0.        , 0.        , 0.        ],\n",
       "       [0.        , 0.        , 0.        , 0.        , 0.        ,\n",
       "        0.        , 0.        , 0.        , 0.        , 0.        ,\n",
       "        0.        , 0.        , 0.01176471, 0.07058824, 0.07058824,\n",
       "        0.07058824, 0.49411765, 0.53333333, 0.68627451, 0.10196078,\n",
       "        0.65098039, 1.        , 0.96862745, 0.49803922, 0.        ,\n",
       "        0.        , 0.        , 0.        ],\n",
       "       [0.        , 0.        , 0.        , 0.        , 0.        ,\n",
       "        0.        , 0.        , 0.        , 0.11764706, 0.14117647,\n",
       "        0.36862745, 0.60392157, 0.66666667, 0.99215686, 0.99215686,\n",
       "        0.99215686, 0.99215686, 0.99215686, 0.88235294, 0.6745098 ,\n",
       "        0.99215686, 0.94901961, 0.76470588, 0.25098039, 0.        ,\n",
       "        0.        , 0.        , 0.        ],\n",
       "       [0.        , 0.        , 0.        , 0.        , 0.        ,\n",
       "        0.        , 0.        , 0.19215686, 0.93333333, 0.99215686,\n",
       "        0.99215686, 0.99215686, 0.99215686, 0.99215686, 0.99215686,\n",
       "        0.99215686, 0.99215686, 0.98431373, 0.36470588, 0.32156863,\n",
       "        0.32156863, 0.21960784, 0.15294118, 0.        , 0.        ,\n",
       "        0.        , 0.        , 0.        ],\n",
       "       [0.        , 0.        , 0.        , 0.        , 0.        ,\n",
       "        0.        , 0.        , 0.07058824, 0.85882353, 0.99215686,\n",
       "        0.99215686, 0.99215686, 0.99215686, 0.99215686, 0.77647059,\n",
       "        0.71372549, 0.96862745, 0.94509804, 0.        , 0.        ,\n",
       "        0.        , 0.        , 0.        , 0.        , 0.        ,\n",
       "        0.        , 0.        , 0.        ],\n",
       "       [0.        , 0.        , 0.        , 0.        , 0.        ,\n",
       "        0.        , 0.        , 0.        , 0.31372549, 0.61176471,\n",
       "        0.41960784, 0.99215686, 0.99215686, 0.80392157, 0.04313725,\n",
       "        0.        , 0.16862745, 0.60392157, 0.        , 0.        ,\n",
       "        0.        , 0.        , 0.        , 0.        , 0.        ,\n",
       "        0.        , 0.        , 0.        ],\n",
       "       [0.        , 0.        , 0.        , 0.        , 0.        ,\n",
       "        0.        , 0.        , 0.        , 0.        , 0.05490196,\n",
       "        0.00392157, 0.60392157, 0.99215686, 0.35294118, 0.        ,\n",
       "        0.        , 0.        , 0.        , 0.        , 0.        ,\n",
       "        0.        , 0.        , 0.        , 0.        , 0.        ,\n",
       "        0.        , 0.        , 0.        ],\n",
       "       [0.        , 0.        , 0.        , 0.        , 0.        ,\n",
       "        0.        , 0.        , 0.        , 0.        , 0.        ,\n",
       "        0.        , 0.54509804, 0.99215686, 0.74509804, 0.00784314,\n",
       "        0.        , 0.        , 0.        , 0.        , 0.        ,\n",
       "        0.        , 0.        , 0.        , 0.        , 0.        ,\n",
       "        0.        , 0.        , 0.        ],\n",
       "       [0.        , 0.        , 0.        , 0.        , 0.        ,\n",
       "        0.        , 0.        , 0.        , 0.        , 0.        ,\n",
       "        0.        , 0.04313725, 0.74509804, 0.99215686, 0.2745098 ,\n",
       "        0.        , 0.        , 0.        , 0.        , 0.        ,\n",
       "        0.        , 0.        , 0.        , 0.        , 0.        ,\n",
       "        0.        , 0.        , 0.        ],\n",
       "       [0.        , 0.        , 0.        , 0.        , 0.        ,\n",
       "        0.        , 0.        , 0.        , 0.        , 0.        ,\n",
       "        0.        , 0.        , 0.1372549 , 0.94509804, 0.88235294,\n",
       "        0.62745098, 0.42352941, 0.00392157, 0.        , 0.        ,\n",
       "        0.        , 0.        , 0.        , 0.        , 0.        ,\n",
       "        0.        , 0.        , 0.        ],\n",
       "       [0.        , 0.        , 0.        , 0.        , 0.        ,\n",
       "        0.        , 0.        , 0.        , 0.        , 0.        ,\n",
       "        0.        , 0.        , 0.        , 0.31764706, 0.94117647,\n",
       "        0.99215686, 0.99215686, 0.46666667, 0.09803922, 0.        ,\n",
       "        0.        , 0.        , 0.        , 0.        , 0.        ,\n",
       "        0.        , 0.        , 0.        ],\n",
       "       [0.        , 0.        , 0.        , 0.        , 0.        ,\n",
       "        0.        , 0.        , 0.        , 0.        , 0.        ,\n",
       "        0.        , 0.        , 0.        , 0.        , 0.17647059,\n",
       "        0.72941176, 0.99215686, 0.99215686, 0.58823529, 0.10588235,\n",
       "        0.        , 0.        , 0.        , 0.        , 0.        ,\n",
       "        0.        , 0.        , 0.        ],\n",
       "       [0.        , 0.        , 0.        , 0.        , 0.        ,\n",
       "        0.        , 0.        , 0.        , 0.        , 0.        ,\n",
       "        0.        , 0.        , 0.        , 0.        , 0.        ,\n",
       "        0.0627451 , 0.36470588, 0.98823529, 0.99215686, 0.73333333,\n",
       "        0.        , 0.        , 0.        , 0.        , 0.        ,\n",
       "        0.        , 0.        , 0.        ],\n",
       "       [0.        , 0.        , 0.        , 0.        , 0.        ,\n",
       "        0.        , 0.        , 0.        , 0.        , 0.        ,\n",
       "        0.        , 0.        , 0.        , 0.        , 0.        ,\n",
       "        0.        , 0.        , 0.97647059, 0.99215686, 0.97647059,\n",
       "        0.25098039, 0.        , 0.        , 0.        , 0.        ,\n",
       "        0.        , 0.        , 0.        ],\n",
       "       [0.        , 0.        , 0.        , 0.        , 0.        ,\n",
       "        0.        , 0.        , 0.        , 0.        , 0.        ,\n",
       "        0.        , 0.        , 0.        , 0.        , 0.18039216,\n",
       "        0.50980392, 0.71764706, 0.99215686, 0.99215686, 0.81176471,\n",
       "        0.00784314, 0.        , 0.        , 0.        , 0.        ,\n",
       "        0.        , 0.        , 0.        ],\n",
       "       [0.        , 0.        , 0.        , 0.        , 0.        ,\n",
       "        0.        , 0.        , 0.        , 0.        , 0.        ,\n",
       "        0.        , 0.        , 0.15294118, 0.58039216, 0.89803922,\n",
       "        0.99215686, 0.99215686, 0.99215686, 0.98039216, 0.71372549,\n",
       "        0.        , 0.        , 0.        , 0.        , 0.        ,\n",
       "        0.        , 0.        , 0.        ],\n",
       "       [0.        , 0.        , 0.        , 0.        , 0.        ,\n",
       "        0.        , 0.        , 0.        , 0.        , 0.        ,\n",
       "        0.09411765, 0.44705882, 0.86666667, 0.99215686, 0.99215686,\n",
       "        0.99215686, 0.99215686, 0.78823529, 0.30588235, 0.        ,\n",
       "        0.        , 0.        , 0.        , 0.        , 0.        ,\n",
       "        0.        , 0.        , 0.        ],\n",
       "       [0.        , 0.        , 0.        , 0.        , 0.        ,\n",
       "        0.        , 0.        , 0.        , 0.09019608, 0.25882353,\n",
       "        0.83529412, 0.99215686, 0.99215686, 0.99215686, 0.99215686,\n",
       "        0.77647059, 0.31764706, 0.00784314, 0.        , 0.        ,\n",
       "        0.        , 0.        , 0.        , 0.        , 0.        ,\n",
       "        0.        , 0.        , 0.        ],\n",
       "       [0.        , 0.        , 0.        , 0.        , 0.        ,\n",
       "        0.        , 0.07058824, 0.67058824, 0.85882353, 0.99215686,\n",
       "        0.99215686, 0.99215686, 0.99215686, 0.76470588, 0.31372549,\n",
       "        0.03529412, 0.        , 0.        , 0.        , 0.        ,\n",
       "        0.        , 0.        , 0.        , 0.        , 0.        ,\n",
       "        0.        , 0.        , 0.        ],\n",
       "       [0.        , 0.        , 0.        , 0.        , 0.21568627,\n",
       "        0.6745098 , 0.88627451, 0.99215686, 0.99215686, 0.99215686,\n",
       "        0.99215686, 0.95686275, 0.52156863, 0.04313725, 0.        ,\n",
       "        0.        , 0.        , 0.        , 0.        , 0.        ,\n",
       "        0.        , 0.        , 0.        , 0.        , 0.        ,\n",
       "        0.        , 0.        , 0.        ],\n",
       "       [0.        , 0.        , 0.        , 0.        , 0.53333333,\n",
       "        0.99215686, 0.99215686, 0.99215686, 0.83137255, 0.52941176,\n",
       "        0.51764706, 0.0627451 , 0.        , 0.        , 0.        ,\n",
       "        0.        , 0.        , 0.        , 0.        , 0.        ,\n",
       "        0.        , 0.        , 0.        , 0.        , 0.        ,\n",
       "        0.        , 0.        , 0.        ],\n",
       "       [0.        , 0.        , 0.        , 0.        , 0.        ,\n",
       "        0.        , 0.        , 0.        , 0.        , 0.        ,\n",
       "        0.        , 0.        , 0.        , 0.        , 0.        ,\n",
       "        0.        , 0.        , 0.        , 0.        , 0.        ,\n",
       "        0.        , 0.        , 0.        , 0.        , 0.        ,\n",
       "        0.        , 0.        , 0.        ],\n",
       "       [0.        , 0.        , 0.        , 0.        , 0.        ,\n",
       "        0.        , 0.        , 0.        , 0.        , 0.        ,\n",
       "        0.        , 0.        , 0.        , 0.        , 0.        ,\n",
       "        0.        , 0.        , 0.        , 0.        , 0.        ,\n",
       "        0.        , 0.        , 0.        , 0.        , 0.        ,\n",
       "        0.        , 0.        , 0.        ],\n",
       "       [0.        , 0.        , 0.        , 0.        , 0.        ,\n",
       "        0.        , 0.        , 0.        , 0.        , 0.        ,\n",
       "        0.        , 0.        , 0.        , 0.        , 0.        ,\n",
       "        0.        , 0.        , 0.        , 0.        , 0.        ,\n",
       "        0.        , 0.        , 0.        , 0.        , 0.        ,\n",
       "        0.        , 0.        , 0.        ]])"
      ]
     },
     "execution_count": 32,
     "metadata": {},
     "output_type": "execute_result"
    }
   ],
   "source": [
    "\"\"\"We're going to use a Neural Network because this \n",
    "   is dataset of images, and Neural Networks are great \n",
    "   for working with image data\n",
    "\"\"\""
   ]
  },
  {
   "cell_type": "code",
   "execution_count": 40,
   "metadata": {},
   "outputs": [],
   "source": [
    "model_1 = tf.keras.Sequential([\n",
    "    tf.keras.layers.Flatten(input_shape = (28,28)),\n",
    "    tf.keras.layers.Dense(128),\n",
    "    tf.keras.layers.Dense(10)\n",
    "])\n",
    "\n",
    "model_1.compile(\n",
    "    optimizer = 'adam',\n",
    "    loss=tf.keras.losses.SparseCategoricalCrossentropy(from_logits=True),\n",
    "    metrics = ['accuracy'])\n",
    "\n",
    "model.fit(x_train, y_train, epochs = 10)"
   ]
  },
  {
   "cell_type": "code",
   "execution_count": 42,
   "metadata": {},
   "outputs": [
    {
     "name": "stdout",
     "output_type": "stream",
     "text": [
      "313/313 - 2s - loss: 0.2888 - accuracy: 0.9218\n"
     ]
    }
   ],
   "source": [
    "test_loss, test_acc = model_1.evaluate(x_test,  y_test, verbose=2)"
   ]
  },
  {
   "cell_type": "code",
   "execution_count": 66,
   "metadata": {},
   "outputs": [],
   "source": [
    "#We can get a more accurate model by increaseing the capacity of the model by increasing the number of layers.\n",
    "model_2 = tf.keras.Sequential([\n",
    "    tf.keras.layers.Flatten(input_shape = (28,28)),\n",
    "    tf.keras.layers.Dense(128),\n",
    "    tf.keras.layers.Dense(128),\n",
    "    tf.keras.layers.Dense(128),\n",
    "    tf.keras.layers.Dense(10)\n",
    "])\n",
    "\n",
    "model_2.compile(\n",
    "    optimizer = 'adam',\n",
    "    loss=tf.keras.losses.SparseCategoricalCrossentropy(from_logits=True),\n",
    "    metrics = ['accuracy'])"
   ]
  },
  {
   "cell_type": "code",
   "execution_count": 67,
   "metadata": {},
   "outputs": [
    {
     "name": "stdout",
     "output_type": "stream",
     "text": [
      "Epoch 1/15\n",
      "1875/1875 [==============================] - 13s 6ms/step - loss: 0.4744 - accuracy: 0.8572\n",
      "Epoch 2/15\n",
      "1875/1875 [==============================] - 11s 6ms/step - loss: 0.3325 - accuracy: 0.9053\n",
      "Epoch 3/15\n",
      "1875/1875 [==============================] - 11s 6ms/step - loss: 0.3237 - accuracy: 0.9074\n",
      "Epoch 4/15\n",
      "1875/1875 [==============================] - 10s 6ms/step - loss: 0.3104 - accuracy: 0.9136\n",
      "Epoch 5/15\n",
      "1875/1875 [==============================] - 14s 7ms/step - loss: 0.3020 - accuracy: 0.9149\n",
      "Epoch 6/15\n",
      "1875/1875 [==============================] - 10s 5ms/step - loss: 0.2972 - accuracy: 0.9166\n",
      "Epoch 7/15\n",
      "1875/1875 [==============================] - 10s 5ms/step - loss: 0.2804 - accuracy: 0.9206 0s - loss: 0.2803 - accuracy: \n",
      "Epoch 8/15\n",
      "1875/1875 [==============================] - 12s 6ms/step - loss: 0.2854 - accuracy: 0.9200\n",
      "Epoch 9/15\n",
      "1875/1875 [==============================] - 12s 7ms/step - loss: 0.2849 - accuracy: 0.9198\n",
      "Epoch 10/15\n",
      "1875/1875 [==============================] - 12s 6ms/step - loss: 0.2753 - accuracy: 0.9216\n",
      "Epoch 11/15\n",
      "1875/1875 [==============================] - 12s 7ms/step - loss: 0.2730 - accuracy: 0.9219\n",
      "Epoch 12/15\n",
      "1875/1875 [==============================] - 11s 6ms/step - loss: 0.2742 - accuracy: 0.9218\n",
      "Epoch 13/15\n",
      "1875/1875 [==============================] - 10s 5ms/step - loss: 0.2756 - accuracy: 0.9228\n",
      "Epoch 14/15\n",
      "1875/1875 [==============================] - 13s 7ms/step - loss: 0.2707 - accuracy: 0.9233\n",
      "Epoch 15/15\n",
      "1875/1875 [==============================] - 11s 6ms/step - loss: 0.2615 - accuracy: 0.9274\n"
     ]
    },
    {
     "data": {
      "text/plain": [
       "<tensorflow.python.keras.callbacks.History at 0x7fe38fd88160>"
      ]
     },
     "execution_count": 67,
     "metadata": {},
     "output_type": "execute_result"
    }
   ],
   "source": [
    "model_2.fit(x_train, y_train, epochs = 15)"
   ]
  },
  {
   "cell_type": "code",
   "execution_count": 71,
   "metadata": {},
   "outputs": [
    {
     "name": "stdout",
     "output_type": "stream",
     "text": [
      "1875/1875 - 5s - loss: 0.2584 - accuracy: 0.9254\n"
     ]
    }
   ],
   "source": [
    "loss, acc = model_2.evaluate(x_train, y_train, verbose = 2)"
   ]
  },
  {
   "cell_type": "code",
   "execution_count": 69,
   "metadata": {},
   "outputs": [
    {
     "name": "stdout",
     "output_type": "stream",
     "text": [
      "313/313 - 1s - loss: 0.2930 - accuracy: 0.9201\n"
     ]
    }
   ],
   "source": [
    "test_loss, test_acc = model_2.evaluate(x_test,  y_test, verbose=2)"
   ]
  },
  {
   "cell_type": "code",
   "execution_count": 80,
   "metadata": {},
   "outputs": [
    {
     "data": {
      "text/plain": [
       "[<tensorflow.python.keras.layers.core.Dense at 0x7fe38fd61048>]"
      ]
     },
     "execution_count": 80,
     "metadata": {},
     "output_type": "execute_result"
    }
   ],
   "source": [
    "some_list = []\n",
    "some_list.append(tf.keras.layers.Dense(10))\n",
    "some_list"
   ]
  },
  {
   "cell_type": "code",
   "execution_count": 84,
   "metadata": {},
   "outputs": [],
   "source": [
    "def make_model(number_of_layers, nodes, number_of_epochs, x, y):\n",
    "    \n",
    "    layers = []\n",
    "    layers.append(tf.keras.layers.Flatten(input_shape = (28,28)))\n",
    "    \n",
    "    for i in range(number_of_layers):\n",
    "        layers.append(tf.keras.layers.Dense(nodes[i],activation = 'relu'))\n",
    "   \n",
    "    layers.append(tf.keras.layers.Dense(10))\n",
    "    \n",
    "    model = tf.keras.Sequential(layers)\n",
    "    \n",
    "    model.compile(optimizer = 'adam',\n",
    "        loss=tf.keras.losses.SparseCategoricalCrossentropy(from_logits=True),\n",
    "        metrics = ['accuracy'])\n",
    "    model.fit(x, y, epochs = number_of_epochs)\n",
    "    return(model)"
   ]
  },
  {
   "cell_type": "code",
   "execution_count": 89,
   "metadata": {},
   "outputs": [],
   "source": [
    "def make_model(number_of_layers, nodes, number_of_epochs, x, y):\n",
    "    \n",
    "    layers = []\n",
    "    layers.append(tf.keras.layers.Flatten(input_shape = (28,28)))\n",
    "    \n",
    "    for i in range(number_of_layers):\n",
    "        layers.append(tf.keras.layers.Dense(nodes[i],activation = 'relu'))\n",
    "   \n",
    "    layers.append(tf.keras.layers.Dense(10))\n",
    "    \n",
    "    model = tf.keras.Sequential(layers)\n",
    "    \n",
    "    model.compile(optimizer = 'adam',\n",
    "        loss=tf.keras.losses.SparseCategoricalCrossentropy(from_logits=True),\n",
    "        metrics = ['accuracy'])\n",
    "    model.fit(x, y, epochs = number_of_epochs)\n",
    "    return(model)\n",
    "\n",
    "def get_training_acc(model):\n",
    "    loss, acc = model.evaluate(x_train, y_train, verbose = 2)\n",
    "    return(acc)\n",
    "\n",
    "def get_testing_acc(model):\n",
    "    loss, acc = model.evaluate(x_test, y_test, verbose = 2)\n",
    "    return(acc)"
   ]
  },
  {
   "cell_type": "code",
   "execution_count": 99,
   "metadata": {},
   "outputs": [
    {
     "name": "stdout",
     "output_type": "stream",
     "text": [
      "1875/1875 [==============================] - ETA: 0s - loss: 0.4355 - accuracy: 0.87 - 15s 7ms/step - loss: 0.4352 - accuracy: 0.8757\n",
      "1875/1875 - 8s - loss: 0.1279 - accuracy: 0.9634\n",
      "313/313 - 1s - loss: 0.1339 - accuracy: 0.9616\n",
      "Epoch 1/2\n",
      "1875/1875 [==============================] - 22s 10ms/step - loss: 0.4230 - accuracy: 0.8806\n",
      "Epoch 2/2\n",
      "1875/1875 [==============================] - 14s 8ms/step - loss: 0.1147 - accuracy: 0.9664\n",
      "1875/1875 - 5s - loss: 0.0819 - accuracy: 0.9755\n",
      "313/313 - 1s - loss: 0.0999 - accuracy: 0.9677\n",
      "Epoch 1/3\n",
      "1875/1875 [==============================] - 15s 7ms/step - loss: 0.4294 - accuracy: 0.8774\n",
      "Epoch 2/3\n",
      "1875/1875 [==============================] - 12s 6ms/step - loss: 0.1218 - accuracy: 0.9645\n",
      "Epoch 3/3\n",
      "1875/1875 [==============================] - 11s 6ms/step - loss: 0.0758 - accuracy: 0.9772\n",
      "1875/1875 - 7s - loss: 0.0506 - accuracy: 0.9858\n",
      "313/313 - 3s - loss: 0.0769 - accuracy: 0.9761\n",
      "Epoch 1/4\n",
      "1875/1875 [==============================] - 15s 7ms/step - loss: 0.4359 - accuracy: 0.8749\n",
      "Epoch 2/4\n",
      "1875/1875 [==============================] - 10s 5ms/step - loss: 0.1258 - accuracy: 0.9625\n",
      "Epoch 3/4\n",
      "1875/1875 [==============================] - 11s 6ms/step - loss: 0.0801 - accuracy: 0.9763\n",
      "Epoch 4/4\n",
      "1875/1875 [==============================] - 13s 7ms/step - loss: 0.0553 - accuracy: 0.9842\n",
      "1875/1875 - 6s - loss: 0.0488 - accuracy: 0.9851\n",
      "313/313 - 2s - loss: 0.0837 - accuracy: 0.9755\n",
      "Epoch 1/5\n",
      "1875/1875 [==============================] - 13s 6ms/step - loss: 0.4345 - accuracy: 0.8768\n",
      "Epoch 2/5\n",
      "1875/1875 [==============================] - 12s 6ms/step - loss: 0.1192 - accuracy: 0.9659\n",
      "Epoch 3/5\n",
      "1875/1875 [==============================] - 11s 6ms/step - loss: 0.0761 - accuracy: 0.9766\n",
      "Epoch 4/5\n",
      "1875/1875 [==============================] - 8s 4ms/step - loss: 0.0584 - accuracy: 0.9821\n",
      "Epoch 5/5\n",
      "1875/1875 [==============================] - 9s 5ms/step - loss: 0.0423 - accuracy: 0.9871\n",
      "1875/1875 - 5s - loss: 0.0310 - accuracy: 0.9910\n",
      "313/313 - 2s - loss: 0.0743 - accuracy: 0.9776\n",
      "Epoch 1/6\n",
      "1875/1875 [==============================] - 9s 4ms/step - loss: 0.4369 - accuracy: 0.8780: 0s - loss: 0.4512 - ac\n",
      "Epoch 2/6\n",
      "1875/1875 [==============================] - 6s 3ms/step - loss: 0.1169 - accuracy: 0.9664\n",
      "Epoch 3/6\n",
      "1875/1875 [==============================] - 7s 4ms/step - loss: 0.0779 - accuracy: 0.9762\n",
      "Epoch 4/6\n",
      "1875/1875 [==============================] - 7s 4ms/step - loss: 0.0567 - accuracy: 0.9833\n",
      "Epoch 5/6\n",
      "1875/1875 [==============================] - 6s 3ms/step - loss: 0.0431 - accuracy: 0.9864\n",
      "Epoch 6/6\n",
      "1875/1875 [==============================] - 6s 3ms/step - loss: 0.0339 - accuracy: 0.9894\n",
      "1875/1875 - 5s - loss: 0.0249 - accuracy: 0.9926\n",
      "313/313 - 1s - loss: 0.0821 - accuracy: 0.9773\n",
      "Epoch 1/7\n",
      "1875/1875 [==============================] - 8s 4ms/step - loss: 0.4396 - accuracy: 0.8745\n",
      "Epoch 2/7\n",
      "1875/1875 [==============================] - 6s 3ms/step - loss: 0.1230 - accuracy: 0.9634\n",
      "Epoch 3/7\n",
      "1875/1875 [==============================] - 6s 3ms/step - loss: 0.0790 - accuracy: 0.9774\n",
      "Epoch 4/7\n",
      "1875/1875 [==============================] - 5s 3ms/step - loss: 0.0613 - accuracy: 0.9814\n",
      "Epoch 5/7\n",
      "1875/1875 [==============================] - 5s 3ms/step - loss: 0.0445 - accuracy: 0.9863\n",
      "Epoch 6/7\n",
      "1875/1875 [==============================] - 8s 4ms/step - loss: 0.0349 - accuracy: 0.9893: 0s - loss: 0.034\n",
      "Epoch 7/7\n",
      "1875/1875 [==============================] - 7s 4ms/step - loss: 0.0287 - accuracy: 0.9911\n",
      "1875/1875 - 4s - loss: 0.0178 - accuracy: 0.9954\n",
      "313/313 - 1s - loss: 0.0790 - accuracy: 0.9788\n"
     ]
    }
   ],
   "source": [
    "train_acc = []\n",
    "test_acc = []\n",
    "\n",
    "EPOCHS = [1,2,3,4,5,6,7,8,9,10,11]\n",
    "\n",
    "for e in EPOCHS:\n",
    "    model = make_model(number_of_layers = 1, #I'll try training my model over different epochs\n",
    "                       nodes = [128], \n",
    "                       number_of_epochs = e, \n",
    "                       x = x_train, \n",
    "                       y = y_train)\n",
    "    train_acc.append(get_training_acc(model))\n",
    "    test_acc.append(get_testing_acc(model))"
   ]
  },
  {
   "cell_type": "code",
   "execution_count": 110,
   "metadata": {},
   "outputs": [
    {
     "data": {
      "text/plain": [
       "<matplotlib.legend.Legend at 0x7fe2f415d0b8>"
      ]
     },
     "execution_count": 110,
     "metadata": {},
     "output_type": "execute_result"
    },
    {
     "data": {
      "image/png": "[encoded data removed]",
      "text/plain": [
       "<Figure size 432x288 with 1 Axes>"
      ]
     },
     "metadata": {
      "needs_background": "light"
     },
     "output_type": "display_data"
    }
   ],
   "source": [
    "plt.scatter(EPOCHS, 1- np.array(train_acc), c = 'blue', label = 'training error')\n",
    "plt.scatter(EPOCHS, 1-  np.array(test_acc), c = 'red', label = 'test error')\n",
    "plt.xlabel(\"Number of Epochs\")\n",
    "plt.ylabel(\"Error Rate\")\n",
    "plt.title(\"Error Rate vs. Epochs\")\n",
    "plt.axhline(0, c = 'black')\n",
    "plt.legend();"
   ]
  },
  {
   "cell_type": "code",
   "execution_count": 111,
   "metadata": {},
   "outputs": [
    {
     "data": {
      "text/plain": [
       "[1, 2, 3, 4, 5, 6, 7, 8, 9, 10, 11, 12, 13, 14, 15, 16, 17, 18, 19]"
      ]
     },
     "execution_count": 111,
     "metadata": {},
     "output_type": "execute_result"
    }
   ],
   "source": [
    "list(range(1,20))"
   ]
  },
  {
   "cell_type": "code",
   "execution_count": null,
   "metadata": {},
   "outputs": [],
   "source": []
  }
 ],
 "metadata": {
  "kernelspec": {
   "display_name": "py_36_env",
   "language": "python",
   "name": "py_36_env"
  },
  "language_info": {
   "codemirror_mode": {
    "name": "ipython",
    "version": 3
   },
   "file_extension": ".py",
   "mimetype": "text/x-python",
   "name": "python",
   "nbconvert_exporter": "python",
   "pygments_lexer": "ipython3",
   "version": "3.6.7"
  }
 },
 "nbformat": 4,
 "nbformat_minor": 2
}
