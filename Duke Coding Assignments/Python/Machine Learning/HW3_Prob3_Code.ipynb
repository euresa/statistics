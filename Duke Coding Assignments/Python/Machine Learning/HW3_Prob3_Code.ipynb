{
 "cells": [
  {
   "cell_type": "markdown",
   "metadata": {},
   "source": [
    "# COMP 671D: Homework 3\n",
    "## Author: Samuel Eure\n",
    "## Problem 3"
   ]
  },
  {
   "cell_type": "code",
   "execution_count": 1,
   "metadata": {},
   "outputs": [],
   "source": [
    "import numpy as np\n",
    "import pandas as pd\n",
    "import matplotlib.pyplot as plt\n",
    "import scipy as scipy\n",
    "from scipy.optimize import minimize\n",
    "import random\n",
    "from sklearn import metrics"
   ]
  },
  {
   "cell_type": "code",
   "execution_count": 2,
   "metadata": {},
   "outputs": [],
   "source": [
    "train     = pd.read_csv(\"house_votes_84_train.csv\", sep = ',')\n",
    "test      = pd.read_csv(\"house_votes_84_test.csv\", sep = ',')\n",
    "samples   = len(train.iloc[:,0])"
   ]
  },
  {
   "cell_type": "code",
   "execution_count": 3,
   "metadata": {},
   "outputs": [],
   "source": [
    "def getJandError(train,d):\n",
    "    j_t = -1\n",
    "    minError = 2.0\n",
    "    realY = np.array(train.iloc[:,0])\n",
    "    for j in range(len(train.iloc[0,1:])):\n",
    "        j += 1\n",
    "        predictions = np.array(train.iloc[:,j])\n",
    "        score = np.matmul((predictions != realY),d)\n",
    "        if score < minError:\n",
    "            minError = score\n",
    "            j_t = j\n",
    "    return(j_t, minError)"
   ]
  },
  {
   "cell_type": "markdown",
   "metadata": {},
   "source": [
    "## Problem 3a"
   ]
  },
  {
   "cell_type": "markdown",
   "metadata": {},
   "source": [
    "### AdaBoost Implementation"
   ]
  },
  {
   "cell_type": "code",
   "execution_count": 4,
   "metadata": {},
   "outputs": [],
   "source": [
    "T = len(train.iloc[0,1:])\n",
    "realY = np.array(train.iloc[:,0])\n",
    "d = np.ones(samples)/samples\n",
    "weights = np.zeros(T)\n",
    "for t in range(100):    # I run the algorithm 100 times however my weights \n",
    "                      #   essentially converge after the first iteration\n",
    "    \n",
    "    j_t, error = getJandError(train,d)\n",
    "    \n",
    "    alpha = 0.5*np.log((1-error)/error)\n",
    "    weights[j_t-1] += alpha\n",
    "    predictions = np.array(train.iloc[:,j_t])\n",
    "    correct   = (predictions == realY)*np.exp(-1*alpha)\n",
    "    incorrect = (predictions != realY)*np.exp(alpha)\n",
    "    d = correct + incorrect\n",
    "    d = d/sum(d)\n",
    "\n",
    "features = np.array(train.iloc[:, 1:])"
   ]
  },
  {
   "cell_type": "markdown",
   "metadata": {},
   "source": [
    "### Adaboost Model Evaluation"
   ]
  },
  {
   "cell_type": "code",
   "execution_count": 5,
   "metadata": {},
   "outputs": [
    {
     "name": "stdout",
     "output_type": "stream",
     "text": [
      "Training Accuracy: 0.9428571428571428\n",
      "Test Accuracy: 0.98\n"
     ]
    }
   ],
   "source": [
    "print(\"Training Accuracy:\",np.mean(np.sign(np.matmul(\n",
    "    np.array(train.iloc[:,1:]),weights))==realY)) #Accuracy\n",
    "print(\"Test Accuracy:\",np.mean(np.sign(np.matmul(\n",
    "    np.array(test.iloc[:,1:]),weights))==np.array(test.iloc[:,0]))) #Accuracy  "
   ]
  },
  {
   "cell_type": "markdown",
   "metadata": {},
   "source": [
    "## Problem 3b"
   ]
  },
  {
   "cell_type": "markdown",
   "metadata": {},
   "source": [
    "### Logistic Regression Implementation"
   ]
  },
  {
   "cell_type": "markdown",
   "metadata": {},
   "source": [
    "#### For this problem, I will find the minimum of the negative log likelihood instead of the maximium log likelihood. This will accomplish the same thing.\n",
    "\n",
    "#### Given that:\n",
    "\n",
    "$-log(P(Y_i = y_i | \\vec \\beta, \\vec x_i)) = log(1+e^{-y_i \\vec \\beta\\cdot \\vec x_i})$,\n",
    "\n",
    "#### the negative log likelihood of $-log(L(\\beta))$ is equal to $-log(L(\\beta)) = \\sum_{i=1}^n log(1+e^{-y_i \\vec \\beta\\cdot \\vec x_i})$.\n",
    "\n",
    "#### This function will be minimized with respect to $\\beta$\n"
   ]
  },
  {
   "cell_type": "code",
   "execution_count": 6,
   "metadata": {},
   "outputs": [
    {
     "data": {
      "text/plain": [
       "266.8616645155789"
      ]
     },
     "execution_count": 6,
     "metadata": {},
     "output_type": "execute_result"
    }
   ],
   "source": [
    "def getNLL(betas):\n",
    "    data = np.array(train)\n",
    "    prod = np.matmul(data[:, 1:], betas) #features\n",
    "    yValues = np.array(data[:, 0]) #real y values\n",
    "    yProd   = yValues*prod\n",
    "    return(np.sum(np.log(1+np.exp( -1*yProd))))\n",
    "\n",
    "betas0 = np.zeros(T) \n",
    "getNLL(betas0)   #Algorithm Testing"
   ]
  },
  {
   "cell_type": "markdown",
   "metadata": {},
   "source": [
    "### Determining \"optimal\" beta values"
   ]
  },
  {
   "cell_type": "code",
   "execution_count": 7,
   "metadata": {},
   "outputs": [
    {
     "name": "stdout",
     "output_type": "stream",
     "text": [
      "Optimal Beta Values: [ 0.07097047 -0.77902062 -1.34247057  4.29392102  1.78724924 -2.19311427\n",
      "  1.7240725  -0.75573081 -1.05317142  1.4752639  -1.43506075  1.08354749\n",
      " -0.32326115 -0.76060663 -0.29633747 -0.83586897]\n"
     ]
    }
   ],
   "source": [
    "results = scipy.optimize.minimize(getNLL, x0 = np.zeros(T))\n",
    "optimalBetas = results.x\n",
    "print(\"Optimal Beta Values:\", optimalBetas)"
   ]
  },
  {
   "cell_type": "markdown",
   "metadata": {},
   "source": [
    "### Model Evaluation for Logistic Regression"
   ]
  },
  {
   "cell_type": "code",
   "execution_count": 8,
   "metadata": {},
   "outputs": [
    {
     "name": "stdout",
     "output_type": "stream",
     "text": [
      "For the training  data set:\n",
      "AUC: 0.9677\n",
      "Accuracy: 96.36 %\n",
      "------------------------\n",
      "For the test data set:\n",
      "AUC: 0.9228\n",
      "Accuracy: 94.0 %\n"
     ]
    },
    {
     "data": {
      "text/plain": [
       "()"
      ]
     },
     "execution_count": 8,
     "metadata": {},
     "output_type": "execute_result"
    }
   ],
   "source": [
    "def evaluateBetas(data, optimalBetas):\n",
    "    data = np.array(data)\n",
    "    y = data[:, 0]\n",
    "    X = data[:, 1:]\n",
    "    BX = np.matmul(X, optimalBetas)\n",
    "    \n",
    "    probYis1 = 1/(1+ np.exp(-1*BX))\n",
    "    prePreds    = probYis1 >= 0.5\n",
    "    predictions = prePreds*2 -1\n",
    "    fpr,tpr, thresholds = metrics.roc_curve(y,predictions, pos_label=1)\n",
    "    print(\"AUC:\", np.round(metrics.auc(fpr, tpr),4))\n",
    "    acc = np.mean((predictions == y))\n",
    "    print(\"Accuracy:\", 100*np.round(acc,4), \"%\")\n",
    "    return()\n",
    "    \n",
    "    \n",
    "    \n",
    "print(\"For the training  data set:\")\n",
    "evaluateBetas(train, optimalBetas)\n",
    "print(\"------------------------\")\n",
    "print(\"For the test data set:\")\n",
    "evaluateBetas(test, optimalBetas)"
   ]
  },
  {
   "cell_type": "markdown",
   "metadata": {},
   "source": [
    "## Problem 3c"
   ]
  },
  {
   "cell_type": "markdown",
   "metadata": {},
   "source": [
    "### Model Comparison"
   ]
  },
  {
   "cell_type": "markdown",
   "metadata": {},
   "source": [
    "#### In this problem, I will compare the test accuracies, ROC Curves/AUC Values, and F1 acores."
   ]
  },
  {
   "cell_type": "code",
   "execution_count": 9,
   "metadata": {},
   "outputs": [],
   "source": [
    "test = np.array(test)\n",
    "y = test[:, 0]\n",
    "X = test[:, 1:]\n",
    "\n",
    "# Logistic Regression Data\n",
    "BX = np.matmul(X, optimalBetas)\n",
    "LR_probs = 1/(1+ np.exp(-1*BX))\n",
    "LR_predictions = (LR_probs >= 0.5)*2 -1\n",
    "\n",
    "# AdaBoost Data\n",
    "AD_rawScores   = np.matmul(np.array(X),weights) #Used for ROC curve\n",
    "AD_predictions = np.sign(AD_rawScores)"
   ]
  },
  {
   "cell_type": "code",
   "execution_count": 10,
   "metadata": {},
   "outputs": [],
   "source": [
    "def getROC(name, probabilities):\n",
    "    fpr, tpr, thresh = metrics.roc_curve(y,probabilities , pos_label = 1)\n",
    "    auc = np.round(metrics.auc(fpr, tpr),4)\n",
    "\n",
    "    plt.plot(fpr, tpr)\n",
    "    plt.title(\"ROC Curve for \" + name +  \" (AUC: \"+str(auc)+\")\", fontsize = 15)\n",
    "    plt.plot([0,1],[0,1], \n",
    "             color = 'black', \n",
    "             alpha = .5, \n",
    "             linestyle = 'dashed')\n",
    "    plt.xlabel(\"FPR\", fontsize = 15)\n",
    "    plt.ylabel(\"TPR\", fontsize = 15)\n",
    "    \n",
    "def getAcc_F1(predictions, y):\n",
    "    TotPos = sum(y == 1)\n",
    "    TotNeg = len(y) - TotPos\n",
    "    \n",
    "    correct = (predictions == y)\n",
    "    PredPos = (predictions == 1)\n",
    "    \n",
    "    TP = sum(PredPos*correct)\n",
    "    recall = TP/TotPos\n",
    "    precision = TP/sum(PredPos)\n",
    "    F1 = 2*((precision*recall)/(precision+recall))\n",
    "    print(\"Accuracy: \",np.mean(correct))\n",
    "    print('Recall:   ',recall)\n",
    "    print(\"Precision:\", np.round(precision,4))\n",
    "    print(\"F1 Score: \", np.round(F1,4)) "
   ]
  },
  {
   "cell_type": "code",
   "execution_count": 11,
   "metadata": {},
   "outputs": [
    {
     "name": "stdout",
     "output_type": "stream",
     "text": [
      "Accuracy:  0.94\n",
      "Recall:    0.875\n",
      "Precision: 0.9333\n",
      "F1 Score:  0.9032\n"
     ]
    },
    {
     "data": {
      "image/png": "[encoded data removed]",
      "text/plain": [
       "<Figure size 432x288 with 1 Axes>"
      ]
     },
     "metadata": {
      "needs_background": "light"
     },
     "output_type": "display_data"
    }
   ],
   "source": [
    "#Logistic Regression \n",
    "getROC('Logistic Reg.', LR_probs)\n",
    "getAcc_F1(LR_predictions,y)"
   ]
  },
  {
   "cell_type": "code",
   "execution_count": 12,
   "metadata": {},
   "outputs": [
    {
     "name": "stdout",
     "output_type": "stream",
     "text": [
      "Accuracy:  0.98\n",
      "Recall:    1.0\n",
      "Precision: 0.9412\n",
      "F1 Score:  0.9697\n"
     ]
    },
    {
     "data": {
      "image/png": "[encoded data removed]",
      "text/plain": [
       "<Figure size 432x288 with 1 Axes>"
      ]
     },
     "metadata": {
      "needs_background": "light"
     },
     "output_type": "display_data"
    }
   ],
   "source": [
    "#AdaBoost\n",
    "getROC('AdaBoost',AD_rawScores)\n",
    "getAcc_F1(AD_predictions,y)"
   ]
  },
  {
   "cell_type": "markdown",
   "metadata": {},
   "source": [
    "### Comments on the models\n",
    "\n",
    "#### It appears that the Adaboost algorithm obtained a higher accuracy, recall, precision, and F1 score than the Logistic Regression algorithm. This suggests that the Adaboost algorithm does a better job in classification than the logistic regression algorithm for this data set and given the specifications of the problem. However, it should be noted that the Logistic Regression algorithm obtained a higher area under the ROC curve (i.e. AUC score) than the Adaboost algorithm, althoughly only slighly (about a 0.0128 difference).\n",
    "\n",
    "#### In summary, the Adaboost algorithm seemed to perform better than the logistic regression algorithm, however both  models did decently well in the classification problem given that they both have accuracies in the mid to high nineties. "
   ]
  },
  {
   "cell_type": "markdown",
   "metadata": {},
   "source": [
    "## Problem 3d"
   ]
  },
  {
   "cell_type": "markdown",
   "metadata": {},
   "source": [
    "#### During each iteration of the AdaBoost algorithm one of sixteen classifiers was chosen and coordinate gradient decent was performed in the direction of that classifiers. Given that the algorithm chooses between 16 weak classifiers at each step, the weight vector for the AdaBoost implementation for this data set is 16 dimentional, with the $i^{th}$ dimention being attributed to the $i^{th}$ weak classifier, which is related to the $i^{th}$ bill. Thus, the AdaBoost algorithm would suggest that those classifiers with large weights are \"important\" for making predictions. Thus the most important bills for making predictions from the view of the Adaboost algorithm are..."
   ]
  },
  {
   "cell_type": "code",
   "execution_count": 13,
   "metadata": {},
   "outputs": [
    {
     "data": {
      "text/plain": [
       "Text(0, 0.5, 'Weight')"
      ]
     },
     "execution_count": 13,
     "metadata": {},
     "output_type": "execute_result"
    },
    {
     "data": {
      "image/png": "[encoded data removed]",
      "text/plain": [
       "<Figure size 432x288 with 1 Axes>"
      ]
     },
     "metadata": {
      "needs_background": "light"
     },
     "output_type": "display_data"
    }
   ],
   "source": [
    "bills = [1,2,3,4,5,6,7,8,9,10,11,12,13,14,15,16]\n",
    "plt.plot(bills,weights, '-p')\n",
    "plt.title(\"Weight vs Bill Classifier\")\n",
    "plt.xlabel(\"Bill Number\")\n",
    "plt.ylabel(\"Weight\")"
   ]
  },
  {
   "cell_type": "markdown",
   "metadata": {},
   "source": [
    "#### Bills 4 and 12 are the most significant predictors given that they're the only bills with nonzero weights attribute to them. Indeed, Adaboost has determined that given these two variable, the remaining 14 varaibles are essentially superfulous. Furthermore, it apppears that even when the 12th bill is removed as a predictor, the Adaboost algorithm is able to produce the same accuracy as it was able to with all the predictors, so Bill 12 doesn't seem that important in terms of predictions in comparision to Bill 4. This is shown below:"
   ]
  },
  {
   "cell_type": "code",
   "execution_count": 14,
   "metadata": {},
   "outputs": [
    {
     "name": "stdout",
     "output_type": "stream",
     "text": [
      "Original Training Accuracy: 0.98\n",
      "Test Accuracy when 12 is removed: 0.98\n",
      "Test Accuracy when 4 is removed: 0.86\n"
     ]
    }
   ],
   "source": [
    "train = pd.DataFrame(train)\n",
    "test = pd.DataFrame(test)\n",
    "print(\"Original Training Accuracy:\",np.mean(np.sign(np.matmul(\n",
    "    np.array(test.iloc[:,1:]),weights))==np.array(test.iloc[:,0]))) #Accuracy  \n",
    "remember12 = np.array(train.iloc[:, 12])\n",
    "train.iloc[:, 12] = 1 #rendering it useless\n",
    "T = len(train.iloc[0,1:])\n",
    "realY = np.array(train.iloc[:,0])\n",
    "d = np.ones(samples)/samples\n",
    "weights = np.zeros(T)\n",
    "for t in range(100):    # I run the algorithm 100 times however my weights \n",
    "                      #   essentially converge after the first iteration\n",
    "    \n",
    "    j_t, error = getJandError(train,d)\n",
    "    \n",
    "    alpha = 0.5*np.log((1-error)/error)\n",
    "    weights[j_t-1] += alpha\n",
    "    predictions = np.array(train.iloc[:,j_t])\n",
    "    correct   = (predictions == realY)*np.exp(-1*alpha)\n",
    "    incorrect = (predictions != realY)*np.exp(alpha)\n",
    "    d = correct + incorrect\n",
    "    d = d/sum(d)\n",
    "\n",
    "print(\"Test Accuracy when 12 is removed:\",np.mean(np.sign(np.matmul(\n",
    "    np.array(test.iloc[:,1:]),weights))==np.array(test.iloc[:,0]))) #Accuracy  \n",
    "\n",
    "train.iloc[:, 12] = pd.DataFrame(remember12)\n",
    "remember4  = np.array(train.iloc[:,4])\n",
    "train.iloc[:,4]   = 1\n",
    "d = np.ones(samples)/samples\n",
    "weights = np.zeros(T)\n",
    "for t in range(100):    # I run the algorithm 100 times however my weights \n",
    "                      #   essentially converge after the first iteration\n",
    "    \n",
    "    j_t, error = getJandError(train,d)\n",
    "    \n",
    "    alpha = 0.5*np.log((1-error)/error)\n",
    "    weights[j_t-1] += alpha\n",
    "    predictions = np.array(train.iloc[:,j_t])\n",
    "    correct   = (predictions == realY)*np.exp(-1*alpha)\n",
    "    incorrect = (predictions != realY)*np.exp(alpha)\n",
    "    d = correct + incorrect\n",
    "    d = d/sum(d)\n",
    "\n",
    "print(\"Test Accuracy when 4 is removed:\",np.mean(np.sign(np.matmul(\n",
    "    np.array(test.iloc[:,1:]),weights))==np.array(test.iloc[:,0]))) #Accuracy \n",
    "train.iloc[:,4] = pd.DataFrame(remember4)"
   ]
  },
  {
   "cell_type": "markdown",
   "metadata": {},
   "source": [
    "#### This suggests that Bill 4 is the most significant predictor of partisan ship from an Adaboost perspective, however, in it's absence, Adaboost is still able to obtain an 0.86 accuracy, suggesting that some of the remaining bills contain predictive power of their own. "
   ]
  },
  {
   "cell_type": "markdown",
   "metadata": {},
   "source": [
    "#### From the standpoint of logistic regression, it would appear that bills with large corresponding beta values would be important predictors of partisianship. Let us look at the which beta values are largest:"
   ]
  },
  {
   "cell_type": "code",
   "execution_count": 15,
   "metadata": {},
   "outputs": [
    {
     "data": {
      "text/plain": [
       "Text(0, 0.5, 'Beta Value')"
      ]
     },
     "execution_count": 15,
     "metadata": {},
     "output_type": "execute_result"
    },
    {
     "data": {
      "image/png": "[encoded data removed]",
      "text/plain": [
       "<Figure size 432x288 with 1 Axes>"
      ]
     },
     "metadata": {
      "needs_background": "light"
     },
     "output_type": "display_data"
    }
   ],
   "source": [
    "plt.plot(bills,optimalBetas, '-p')\n",
    "plt.title(\"Beta Values vs Bill\")\n",
    "plt.xlabel(\"Bill Number\")\n",
    "plt.ylabel(\"Beta Value\")"
   ]
  },
  {
   "cell_type": "markdown",
   "metadata": {},
   "source": [
    "#### If the magnitude of the beta value was attributed to the importance of the predictions, it would appear that bills number 4, 5, 7, 10, and 12 are the most important. To test this hypothesis, I will \"remove\" the information stored in each of these bills by setting their values equal to 1 for each observation, and then run my logistic regression algorithm on this new data set for each of the features:"
   ]
  },
  {
   "cell_type": "code",
   "execution_count": 16,
   "metadata": {},
   "outputs": [
    {
     "name": "stdout",
     "output_type": "stream",
     "text": [
      "Original Data Set\n",
      "AUC: 0.9228\n",
      "Accuracy: 94.0 %\n",
      "_________________________________\n",
      "Accuracy and AUC when bill 1 is removed:\n",
      "AUC: 0.9081\n",
      "Accuracy: 92.0 %\n",
      "_________________________________\n",
      "Accuracy and AUC when bill 2 is removed:\n",
      "AUC: 0.8327\n",
      "Accuracy: 84.0 %\n",
      "_________________________________\n",
      "Accuracy and AUC when bill 3 is removed:\n",
      "AUC: 0.9393\n",
      "Accuracy: 94.0 %\n",
      "_________________________________\n",
      "Accuracy and AUC when bill 4 is removed:\n",
      "AUC: 0.7574\n",
      "Accuracy: 76.0 %\n",
      "_________________________________\n",
      "Accuracy and AUC when bill 5 is removed:\n",
      "AUC: 0.8934\n",
      "Accuracy: 90.0 %\n",
      "_________________________________\n",
      "Accuracy and AUC when bill 6 is removed:\n",
      "AUC: 0.8768\n",
      "Accuracy: 90.0 %\n",
      "_________________________________\n",
      "Accuracy and AUC when bill 7 is removed:\n",
      "AUC: 0.9853\n",
      "Accuracy: 98.0 %\n",
      "_________________________________\n",
      "Accuracy and AUC when bill 8 is removed:\n",
      "AUC: 0.9393\n",
      "Accuracy: 94.0 %\n",
      "_________________________________\n",
      "Accuracy and AUC when bill 9 is removed:\n",
      "AUC: 0.954\n",
      "Accuracy: 96.0 %\n",
      "_________________________________\n",
      "Accuracy and AUC when bill 10 is removed:\n",
      "AUC: 0.9853\n",
      "Accuracy: 98.0 %\n",
      "_________________________________\n",
      "Accuracy and AUC when bill 11 is removed:\n",
      "AUC: 0.9393\n",
      "Accuracy: 94.0 %\n",
      "_________________________________\n",
      "Accuracy and AUC when bill 12 is removed:\n",
      "AUC: 0.8787\n",
      "Accuracy: 88.0 %\n",
      "_________________________________\n",
      "Accuracy and AUC when bill 13 is removed:\n",
      "AUC: 0.8621\n",
      "Accuracy: 88.0 %\n",
      "_________________________________\n",
      "Accuracy and AUC when bill 14 is removed:\n",
      "AUC: 0.9062\n",
      "Accuracy: 94.0 %\n",
      "_________________________________\n",
      "Accuracy and AUC when bill 15 is removed:\n",
      "AUC: 0.9393\n",
      "Accuracy: 94.0 %\n",
      "_________________________________\n",
      "Accuracy and AUC when bill 16 is removed:\n",
      "AUC: 0.8768\n",
      "Accuracy: 90.0 %\n",
      "_________________________________\n"
     ]
    }
   ],
   "source": [
    "print(\"Original Data Set\")\n",
    "evaluateBetas(test, optimalBetas)\n",
    "print(\"_________________________________\")\n",
    "for b in bills:\n",
    "    removedBill = np.array(train.iloc[:, b])\n",
    "    train.iloc[:,b] = 1 #rendering the bill useless\n",
    "    results = scipy.optimize.minimize(getNLL, x0 = np.zeros(T))\n",
    "    optimalBetas = results.x\n",
    "    print(\"Accuracy and AUC when bill\",str(b), \"is removed:\")\n",
    "    evaluateBetas(test, optimalBetas)\n",
    "    train.iloc[:,b] = pd.DataFrame(removedBill)\n",
    "    print(\"_________________________________\")"
   ]
  },
  {
   "cell_type": "markdown",
   "metadata": {},
   "source": [
    "#### These results suggest that removing features 4 dramatically reduces the test accuracy and removing feature 2 someone significantly reduces the test accuracy. This would suggest that each of these bills are important for predictions in general. Another interesting discovery of these calculations is that the removal of bills 7,9, and 10 actually leads to an INCREASE in test accuracy. This is most likely due to overfitting of the training data when using all bills are predictors. "
   ]
  },
  {
   "cell_type": "code",
   "execution_count": null,
   "metadata": {},
   "outputs": [],
   "source": []
  }
 ],
 "metadata": {
  "kernelspec": {
   "display_name": "py_36_env",
   "language": "python",
   "name": "py_36_env"
  },
  "language_info": {
   "codemirror_mode": {
    "name": "ipython",
    "version": 3
   },
   "file_extension": ".py",
   "mimetype": "text/x-python",
   "name": "python",
   "nbconvert_exporter": "python",
   "pygments_lexer": "ipython3",
   "version": "3.6.7"
  }
 },
 "nbformat": 4,
 "nbformat_minor": 2
}
