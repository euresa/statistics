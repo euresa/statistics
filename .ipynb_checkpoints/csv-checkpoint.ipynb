{
 "cells": [
  {
   "cell_type": "code",
   "execution_count": 1,
   "metadata": {},
   "outputs": [],
   "source": [
    "a = 2"
   ]
  },
  {
   "cell_type": "code",
   "execution_count": 7,
   "metadata": {},
   "outputs": [
    {
     "name": "stdout",
     "output_type": "stream",
     "text": [
      "hi\n"
     ]
    }
   ],
   "source": [
    "if 0 not in a:\n",
    "    print(\"hi\")"
   ]
  },
  {
   "cell_type": "code",
   "execution_count": null,
   "metadata": {},
   "outputs": [],
   "source": [
    "## Just post it here\n",
    "#These primary colors are kind of \"hard coded\" in here, so we'll put them at the top.\n",
    "Primary_Colors = ['red', 'yellow', 'blue']\n",
    "Secondary_Colors = ['purple', 'orange', 'green']\n",
    "\n",
    "\n",
    "\n",
    "First_Color = input('What is your first color: ') #we've entered \n",
    "\n",
    "if First_Color not in Primary_Colors:\n",
    "    print(\"ERROR: The color you have entered is not a primary color.\")\n",
    "\n",
    "else: #if the first color is good, we'll ask for the second\n",
    "    Second_Color = input(\"Great! Now, please enter your second primary color: \")\n",
    "\n",
    "    if Second_Color not in Primary_Colors:\n",
    "        print(\"ERROR: The color you have entered is not a primary color.\")\n",
    "    \n",
    "    else: \n",
    "        pass"
   ]
  },
  {
   "cell_type": "code",
   "execution_count": null,
   "metadata": {},
   "outputs": [],
   "source": []
  }
 ],
 "metadata": {
  "kernelspec": {
   "display_name": "Python 3",
   "language": "python",
   "name": "python3"
  },
  "language_info": {
   "codemirror_mode": {
    "name": "ipython",
    "version": 3
   },
   "file_extension": ".py",
   "mimetype": "text/x-python",
   "name": "python",
   "nbconvert_exporter": "python",
   "pygments_lexer": "ipython3",
   "version": "3.7.2"
  }
 },
 "nbformat": 4,
 "nbformat_minor": 2
}
