{
 "cells": [
  {
   "cell_type": "markdown",
   "metadata": {},
   "source": [
    "# Functions and numerical methods described in All of Statistics, by Larry Wasserman\n",
    "## Author: Sam Eure"
   ]
  },
  {
   "cell_type": "code",
   "execution_count": 4,
   "metadata": {},
   "outputs": [],
   "source": [
    "import numpy as np"
   ]
  },
  {
   "cell_type": "code",
   "execution_count": 18,
   "metadata": {},
   "outputs": [],
   "source": [
    "def diag(v):\n",
    "    \"\"\"Returns the diagonal matrix from a vector\"\"\"\n",
    "    D = np.zeros((len(v),len(v)))\n",
    "    for i in range(len(v)):\n",
    "        D[i,i] = v[i]\n",
    "    return(D)"
   ]
  },
  {
   "cell_type": "code",
   "execution_count": 21,
   "metadata": {},
   "outputs": [
    {
     "data": {
      "text/plain": [
       "array([[ 1.,  0.,  0.,  0.,  0.,  0.],\n",
       "       [ 0.,  4.,  0.,  0.,  0.,  0.],\n",
       "       [ 0.,  0.,  9.,  0.,  0.,  0.],\n",
       "       [ 0.,  0.,  0., 16.,  0.,  0.],\n",
       "       [ 0.,  0.,  0.,  0., 25.,  0.],\n",
       "       [ 0.,  0.,  0.,  0.,  0., 64.]])"
      ]
     },
     "execution_count": 21,
     "metadata": {},
     "output_type": "execute_result"
    }
   ],
   "source": [
    "x = np.array([1,2,3,4,5,8])\n",
    "diag(x)*diag(x)"
   ]
  },
  {
   "cell_type": "markdown",
   "metadata": {},
   "source": [
    "## Covariance"
   ]
  },
  {
   "cell_type": "code",
   "execution_count": 30,
   "metadata": {},
   "outputs": [],
   "source": [
    "def cov(a,b):\n",
    "    \"\"\"Calculates an unbiased estimate for the covariance of two vectors \n",
    "        of observed random variables. Vectors must have length ≥ 2 or else. \"\"\"\n",
    "    n = len(a)\n",
    "    mA = np.mean(a)\n",
    "    mB = np.mean(b)\n",
    "    c = 0\n",
    "    for i in range(n):\n",
    "        c = c + (a[i]-mA)*(b[i]-mB)\n",
    "    return(c/(n-1))\n",
    "    \n",
    "def cov_matrix(X):\n",
    "    \"\"\"Returns an unbiased estimate of the covariance matrix of a dataset X. \n",
    "        X must have rows of observations and columns of covariates/features.\"\"\"\n",
    "    k = len(X[0,:])\n",
    "    S = np.zeros((k,k))\n",
    "    for i in range(k):\n",
    "        for j in range(k):\n",
    "            S[i,j] = cov(X[:,i], X[:,j])\n",
    "    return(S)\n",
    "    "
   ]
  },
  {
   "cell_type": "code",
   "execution_count": 33,
   "metadata": {},
   "outputs": [
    {
     "data": {
      "text/plain": [
       "array([[  11.5 ,   50.  ,   34.75],\n",
       "       [  50.  , 1250.  ,  205.  ],\n",
       "       [  34.75,  205.  ,  110.  ]])"
      ]
     },
     "execution_count": 33,
     "metadata": {},
     "output_type": "execute_result"
    }
   ],
   "source": [
    "X = np.array([[64,580,29],[66,570,33],[68,590,37],[69,660,46],[73,600,55]])\n",
    "cov_matrix(X)"
   ]
  },
  {
   "cell_type": "markdown",
   "metadata": {},
   "source": [
    "# Orthogonal Function Basis Project"
   ]
  },
  {
   "cell_type": "code",
   "execution_count": 36,
   "metadata": {},
   "outputs": [],
   "source": [
    "import numpy as np\n",
    "import matplotlib.pyplot as plt"
   ]
  },
  {
   "cell_type": "code",
   "execution_count": 39,
   "metadata": {},
   "outputs": [],
   "source": [
    "def inner_product(f,g,a=0,b=1, n=10000):\n",
    "    \"\"\"Numerically estimates the inner product between two continuous functions.\n",
    "        Inner product calculated over the interval a to b.\n",
    "        This function's indented use is to assist with the inner products of probability density functions.\"\"\"\n",
    "    x = np.array(range(n))/n\n",
    "    step = (b-a)/n\n",
    "    fxgx = f(x)*g(x)\n",
    "    return(np.sum(fxgx*step))\n",
    "\n",
    "def identity(x):\n",
    "    \"\"\"A simply identity function which returns the input.\"\"\"\n",
    "    return(x)\n",
    "\n",
    "def cosj(j=1):\n",
    "    \"\"\"Returns the j'th orthogonal cosine basis function.\"\"\"\n",
    "    if j==0:\n",
    "        def c(x):\n",
    "            return(1)\n",
    "        return(c)\n",
    "    else:\n",
    "        def c(x,j=j):\n",
    "            return(2**(.5)*np.cos(j*np.pi*x))\n",
    "    return(c)\n",
    "\n",
    "def doppler(x):\n",
    "    \"\"\"The doppler function.\"\"\"\n",
    "    return(((x*(1-x))**.5)*np.sin((2.1*np.pi)/(x+.05)))\n",
    "\n",
    "def ortho_function_approx(f,x,basis = cosj, J=5, n = 10000):\n",
    "    \"\"\"Approximates the distribution of f using an orthogonal basis of \n",
    "        cosine functions.\"\"\"\n",
    "    approx = x * 0\n",
    "    for j in range(J):\n",
    "        bas_f = basis(j=j)\n",
    "        Bj = inner_product(f,bas_f, n=n)\n",
    "        approx = approx + Bj*bas_f(x)\n",
    "    return(approx)"
   ]
  },
  {
   "cell_type": "code",
   "execution_count": 48,
   "metadata": {},
   "outputs": [
    {
     "data": {
      "image/png": "[encoded data removed]",
      "text/plain": [
       "<Figure size 432x288 with 1 Axes>"
      ]
     },
     "metadata": {
      "needs_background": "light"
     },
     "output_type": "display_data"
    }
   ],
   "source": [
    "x = np.array(range(10000))/10000\n",
    "dop_approx = ortho_function_approx(doppler,x,J=100)\n",
    "plt.plot(x,doppler(x))\n",
    "plt.plot(x,dop_approx)\n",
    "plt.title(\"Approximating the doppler function \\n with an orthogonal cosine basis.\", size = 16);"
   ]
  },
  {
   "cell_type": "markdown",
   "metadata": {},
   "source": [
    "### Importance Sampling"
   ]
  },
  {
   "cell_type": "code",
   "execution_count": 27,
   "metadata": {},
   "outputs": [],
   "source": [
    "import scipy"
   ]
  },
  {
   "cell_type": "code",
   "execution_count": 2,
   "metadata": {},
   "outputs": [],
   "source": [
    "def normal_pdf(x,m,v):\n",
    "    \"Calculates p(x) for a Normal(m,v) pdf.\"\n",
    "    t = (x-m)/np.sqrt(v)\n",
    "    return((1/((2*np.pi*v)**.5))*np.e**(-.5*t**2))"
   ]
  },
  {
   "cell_type": "markdown",
   "metadata": {},
   "source": [
    "$$ f(x) \\sim N(0,1) $$\n",
    "$$ g(x) \\sim N(4,1) $$\n",
    "$$ \\large \\mathbb{P}_f(X>3) = \\int \\mathbb{I}[X > 3] f(x) dx = \\int \\frac{\\mathbb{I}[X > 3]f(x)}{g(x)}g(x) dx = \\mathbb{E}_g \\Bigg[\\mathbb{I}[X > 3]\\frac{f(x)}{g(x)} \\Bigg] $$"
   ]
  },
  {
   "cell_type": "code",
   "execution_count": 41,
   "metadata": {},
   "outputs": [
    {
     "name": "stdout",
     "output_type": "stream",
     "text": [
      "Importance sampling method: 0.00136\n",
      "Acutal soluction: 0.00135\n"
     ]
    }
   ],
   "source": [
    "X = np.random.normal(4,1,10000)\n",
    "I = X > 3\n",
    "f = normal_pdf(X,0,1)\n",
    "g = normal_pdf(X,4,1)\n",
    "print(\"Importance sampling method:\", round(np.mean(f*I/g),5))\n",
    "print(\"Acutal soluction:\", round(1 - scipy.stats.norm.cdf(3),5))"
   ]
  }
 ],
 "metadata": {
  "kernelspec": {
   "display_name": "Python 3",
   "language": "python",
   "name": "python3"
  },
  "language_info": {
   "codemirror_mode": {
    "name": "ipython",
    "version": 3
   },
   "file_extension": ".py",
   "mimetype": "text/x-python",
   "name": "python",
   "nbconvert_exporter": "python",
   "pygments_lexer": "ipython3",
   "version": "3.7.2"
  }
 },
 "nbformat": 4,
 "nbformat_minor": 2
}
