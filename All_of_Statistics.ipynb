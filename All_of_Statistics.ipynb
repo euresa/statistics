{
 "cells": [
  {
   "cell_type": "code",
   "execution_count": 1,
   "metadata": {},
   "outputs": [],
   "source": [
    "import numpy as np"
   ]
  },
  {
   "cell_type": "code",
   "execution_count": 8,
   "metadata": {},
   "outputs": [],
   "source": [
    "def diag(v):\n",
    "    D = np.zeros((len(v),len(v)))\n",
    "    for i in range(len(v)):\n",
    "        D[i,i] = v[i]\n",
    "    return(D)"
   ]
  },
  {
   "cell_type": "code",
   "execution_count": 12,
   "metadata": {},
   "outputs": [
    {
     "data": {
      "text/plain": [
       "array([[ 1.,  0.,  0.,  0.,  0.,  0.],\n",
       "       [ 0.,  4.,  0.,  0.,  0.,  0.],\n",
       "       [ 0.,  0.,  9.,  0.,  0.,  0.],\n",
       "       [ 0.,  0.,  0., 16.,  0.,  0.],\n",
       "       [ 0.,  0.,  0.,  0., 25.,  0.],\n",
       "       [ 0.,  0.,  0.,  0.,  0., 64.]])"
      ]
     },
     "execution_count": 12,
     "metadata": {},
     "output_type": "execute_result"
    }
   ],
   "source": [
    "x = np.array([1,2,3,4,5,8])\n",
    "np.matmul(diag(x)*diag(x))"
   ]
  },
  {
   "cell_type": "code",
   "execution_count": 2,
   "metadata": {},
   "outputs": [],
   "source": [
    "X = np.array([[64,580,29],[66,570,33],[68,590,37],[69,660,46],[73,600,55]])"
   ]
  },
  {
   "cell_type": "markdown",
   "metadata": {},
   "source": [
    "## Covariance"
   ]
  },
  {
   "cell_type": "code",
   "execution_count": 3,
   "metadata": {},
   "outputs": [],
   "source": [
    "def cov(a,b):\n",
    "    n = len(a)\n",
    "    mA = np.mean(a)\n",
    "    mB = np.mean(b)\n",
    "    c = 0\n",
    "    for i in range(n):\n",
    "        c = c + (a[i]-mA)*(b[i]-mB)\n",
    "    return(c/(n-1))\n",
    "    \n",
    "def cov_matrix(X):\n",
    "    k = len(X[0,:])\n",
    "    S = np.zeros((k,k))\n",
    "    for i in range(len(X[0,:])):\n",
    "        for j in range(len(X[0,:])):\n",
    "            S[i,j] = cov(X[:,i], X[:,j])\n",
    "    return(S)\n",
    "    "
   ]
  },
  {
   "cell_type": "code",
   "execution_count": 4,
   "metadata": {},
   "outputs": [
    {
     "data": {
      "text/plain": [
       "array([[  11.5 ,   50.  ,   34.75],\n",
       "       [  50.  , 1250.  ,  205.  ],\n",
       "       [  34.75,  205.  ,  110.  ]])"
      ]
     },
     "execution_count": 4,
     "metadata": {},
     "output_type": "execute_result"
    }
   ],
   "source": [
    "cov_matrix(X)"
   ]
  },
  {
   "cell_type": "markdown",
   "metadata": {},
   "source": [
    "## Inference about Independence"
   ]
  },
  {
   "cell_type": "code",
   "execution_count": 5,
   "metadata": {},
   "outputs": [],
   "source": [
    "X = np.array([[1,1],[1,0],[0,0],[1,0],[0,1],[1,1],[0,0],[1,0],[0,0],[1,1]])"
   ]
  },
  {
   "cell_type": "markdown",
   "metadata": {},
   "source": [
    "# Ambitous Orthogonal Function Basis Project"
   ]
  },
  {
   "cell_type": "code",
   "execution_count": 6,
   "metadata": {},
   "outputs": [],
   "source": [
    "import numpy as np\n",
    "import matplotlib.pyplot as plt"
   ]
  },
  {
   "cell_type": "code",
   "execution_count": 7,
   "metadata": {},
   "outputs": [],
   "source": [
    "def inner_product(f,g,a=0,b=1, n=10000):\n",
    "    x = np.array(range(n))/n\n",
    "    step = (b-a)/n\n",
    "    fxgx = f(x)*g(x)\n",
    "    return(np.sum(fxgx*step))\n",
    "\n",
    "def identity(x):\n",
    "    return(x)\n",
    "\n",
    "def cosj(j=1):\n",
    "    if j==0:\n",
    "        def c(x):\n",
    "            return(1)\n",
    "        return(c)\n",
    "    else:\n",
    "        def c(x,j=j):\n",
    "            return(2**(.5)*np.cos(j*np.pi*x))\n",
    "    return(c)\n",
    "\n",
    "def doppler(x):\n",
    "    return(((x*(1-x))**.5)*np.sin((2.1*np.pi)/(x+.05)))\n",
    "\n",
    "def ortho_function_approx(f,x,basis = cosj, J=5, n = 10000):\n",
    "    approx = x * 0\n",
    "    for j in range(J):\n",
    "        bas_f = basis(j=j)\n",
    "        Bj = inner_product(f,bas_f, n=n)\n",
    "        approx = approx + Bj*bas_f(x)\n",
    "    return(approx)"
   ]
  },
  {
   "cell_type": "code",
   "execution_count": 8,
   "metadata": {},
   "outputs": [
    {
     "data": {
      "text/plain": [
       "[<matplotlib.lines.Line2D at 0x7ff503154e10>]"
      ]
     },
     "execution_count": 8,
     "metadata": {},
     "output_type": "execute_result"
    },
    {
     "data": {
      "image/png": "[encoded data removed]",
      "text/plain": [
       "<Figure size 432x288 with 1 Axes>"
      ]
     },
     "metadata": {
      "needs_background": "light"
     },
     "output_type": "display_data"
    }
   ],
   "source": [
    "x = np.array(range(10000))/10000\n",
    "dop_approx = ortho_function_approx(doppler,x,J=100)\n",
    "plt.plot(x,doppler(x))\n",
    "plt.plot(x,dop_approx)"
   ]
  },
  {
   "cell_type": "markdown",
   "metadata": {},
   "source": [
    "### Importance Sampling"
   ]
  },
  {
   "cell_type": "code",
   "execution_count": 10,
   "metadata": {},
   "outputs": [],
   "source": [
    "def normPdf(x,m,v):\n",
    "    t = (x-m)/np.sqrt(v)\n",
    "    return((1/((2*np.pi*v)**.5))*np.e**(-.5*t**2))"
   ]
  },
  {
   "cell_type": "code",
   "execution_count": 11,
   "metadata": {},
   "outputs": [
    {
     "data": {
      "text/plain": [
       "0.0013616888957046133"
      ]
     },
     "execution_count": 11,
     "metadata": {},
     "output_type": "execute_result"
    }
   ],
   "source": [
    "X = np.random.normal(4,1,10000)\n",
    "h = X > 3\n",
    "f = normPdf(X,0,1)\n",
    "g = normPdf(X,4,1)\n",
    "np.mean(f*h/g)"
   ]
  },
  {
   "cell_type": "code",
   "execution_count": null,
   "metadata": {},
   "outputs": [],
   "source": []
  }
 ],
 "metadata": {
  "kernelspec": {
   "display_name": "Python 3",
   "language": "python",
   "name": "python3"
  },
  "language_info": {
   "codemirror_mode": {
    "name": "ipython",
    "version": 3
   },
   "file_extension": ".py",
   "mimetype": "text/x-python",
   "name": "python",
   "nbconvert_exporter": "python",
   "pygments_lexer": "ipython3",
   "version": "3.7.2"
  }
 },
 "nbformat": 4,
 "nbformat_minor": 2
}
